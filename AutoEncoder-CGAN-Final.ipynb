{
 "cells": [
  {
   "cell_type": "code",
   "execution_count": 1,
   "metadata": {},
   "outputs": [
    {
     "name": "stderr",
     "output_type": "stream",
     "text": [
      "Using TensorFlow backend.\n"
     ]
    }
   ],
   "source": [
    "import numpy as np\n",
    "from keras.layers import Input, Conv2D, MaxPooling2D, UpSampling2D\n",
    "from keras.models import Model\n",
    "from keras.datasets import mnist\n",
    "import tensorflow as tf\n",
    "from tensorflow import keras\n",
    "import matplotlib.pyplot as plt\n",
    "%matplotlib inline"
   ]
  },
  {
   "cell_type": "code",
   "execution_count": 2,
   "metadata": {},
   "outputs": [],
   "source": [
    "\n",
    "fashion_mnist = keras.datasets.fashion_mnist\n",
    "(X_train,_),(X_test,_) = fashion_mnist.load_data()"
   ]
  },
  {
   "cell_type": "code",
   "execution_count": 3,
   "metadata": {},
   "outputs": [],
   "source": [
    "# Prepare datasets\n",
    "# This step contains normalization and reshaping of input.\n",
    "# For output, it is important to change number to one-hot vector. \n",
    "X_train = X_train.astype('float32') / 255\n",
    "#X_train = X_train.reshape(X_train.shape[0], 1, 28, 28)\n",
    "X_test = X_test.astype('float32') / 255\n",
    "#X_test = X_test.reshape(X_test.shape[0], 1, 28, 28)\n",
    "X_train = np.reshape(X_train, (-1, 28, 28, 1))\n",
    "X_test = np.reshape(X_test, (-1, 28, 28, 1))\n",
    "#y_train = np_utils.to_categorical(y_train, 10)\n",
    "#y_test = np_utils.to_categorical(y_test, 10)"
   ]
  },
  {
   "cell_type": "code",
   "execution_count": 4,
   "metadata": {},
   "outputs": [
    {
     "name": "stdout",
     "output_type": "stream",
     "text": [
      "(60000, 28, 28, 1) (10000, 28, 28, 1)\n"
     ]
    }
   ],
   "source": [
    "print(X_train.shape, X_test.shape)"
   ]
  },
  {
   "cell_type": "code",
   "execution_count": 5,
   "metadata": {},
   "outputs": [],
   "source": [
    "input_img = Input(shape=(28,28,1))\n",
    "x = Conv2D(16,(3,3), activation='relu', padding='same')(input_img)\n",
    "x = MaxPooling2D((2,2), padding='same')(x)\n",
    "x = Conv2D(8,(3,3), activation='relu', padding='same')(x)\n",
    "x = MaxPooling2D((2,2), padding='same')(x)\n",
    "x = Conv2D(8,(3,3), activation='relu', padding='same')(x)\n",
    "encoded = MaxPooling2D((2,2), padding='same', name='encoder')(x)\n",
    "\n",
    "x = Conv2D(8, (3, 3), activation='relu', padding='same')(encoded)\n",
    "x = UpSampling2D((2, 2))(x)\n",
    "x = Conv2D(8, (3, 3), activation='relu', padding='same')(x)\n",
    "x = UpSampling2D((2, 2))(x)\n",
    "x = Conv2D(16, (3, 3), activation='relu')(x)\n",
    "x = UpSampling2D((2, 2))(x)\n",
    "decoded = Conv2D(1, (3, 3), activation='sigmoid', padding='same')(x)\n",
    "\n",
    "autoencoder = Model(input_img, decoded)\n",
    "autoencoder.compile(optimizer='adam', loss='mse')"
   ]
  },
  {
   "cell_type": "code",
   "execution_count": 6,
   "metadata": {},
   "outputs": [],
   "source": [
    "# from tensorflow.keras.preprocessing.image import ImageDataGenerator\n",
    "\n",
    "# train_datagen = ImageDataGenerator(\n",
    "#     rescale=1./255,\n",
    "#     shear_range=0.2,\n",
    "#     zoom_range=0.2,\n",
    "#     horizontal_flip=True)\n",
    "\n",
    "# test_datagen = ImageDataGenerator(rescale=1./255)\n",
    "\n",
    "# train_generator = train_datagen.flow_from_directory(\n",
    "#     'dataset/fashionmnist/FashionMNIST',\n",
    "#     target_size=(64, 64),\n",
    "#     batch_size=32,\n",
    "#     class_mode='binary')"
   ]
  },
  {
   "cell_type": "code",
   "execution_count": 7,
   "metadata": {},
   "outputs": [],
   "source": [
    "#Reshape((224,224,3), input_shape=(160,320,3)\n",
    "#autoencoder.fit(X_train, X_train, epochs=2, batch_size=32, callbacks=None )"
   ]
  },
  {
   "cell_type": "code",
   "execution_count": 8,
   "metadata": {},
   "outputs": [],
   "source": [
    "#autoencoder.save('autoencoder.h5')\n",
    "autoencoder.load_weights('autoencoder.h5')"
   ]
  },
  {
   "cell_type": "code",
   "execution_count": 9,
   "metadata": {},
   "outputs": [
    {
     "name": "stdout",
     "output_type": "stream",
     "text": [
      "Model: \"model_1\"\n",
      "_________________________________________________________________\n",
      "Layer (type)                 Output Shape              Param #   \n",
      "=================================================================\n",
      "input_1 (InputLayer)         (None, 28, 28, 1)         0         \n",
      "_________________________________________________________________\n",
      "conv2d_1 (Conv2D)            (None, 28, 28, 16)        160       \n",
      "_________________________________________________________________\n",
      "max_pooling2d_1 (MaxPooling2 (None, 14, 14, 16)        0         \n",
      "_________________________________________________________________\n",
      "conv2d_2 (Conv2D)            (None, 14, 14, 8)         1160      \n",
      "_________________________________________________________________\n",
      "max_pooling2d_2 (MaxPooling2 (None, 7, 7, 8)           0         \n",
      "_________________________________________________________________\n",
      "conv2d_3 (Conv2D)            (None, 7, 7, 8)           584       \n",
      "_________________________________________________________________\n",
      "encoder (MaxPooling2D)       (None, 4, 4, 8)           0         \n",
      "_________________________________________________________________\n",
      "conv2d_4 (Conv2D)            (None, 4, 4, 8)           584       \n",
      "_________________________________________________________________\n",
      "up_sampling2d_1 (UpSampling2 (None, 8, 8, 8)           0         \n",
      "_________________________________________________________________\n",
      "conv2d_5 (Conv2D)            (None, 8, 8, 8)           584       \n",
      "_________________________________________________________________\n",
      "up_sampling2d_2 (UpSampling2 (None, 16, 16, 8)         0         \n",
      "_________________________________________________________________\n",
      "conv2d_6 (Conv2D)            (None, 14, 14, 16)        1168      \n",
      "_________________________________________________________________\n",
      "up_sampling2d_3 (UpSampling2 (None, 28, 28, 16)        0         \n",
      "_________________________________________________________________\n",
      "conv2d_7 (Conv2D)            (None, 28, 28, 1)         145       \n",
      "=================================================================\n",
      "Total params: 4,385\n",
      "Trainable params: 4,385\n",
      "Non-trainable params: 0\n",
      "_________________________________________________________________\n"
     ]
    }
   ],
   "source": [
    "autoencoder.summary()"
   ]
  },
  {
   "cell_type": "code",
   "execution_count": 13,
   "metadata": {},
   "outputs": [],
   "source": [
    "encoder = Model(inputs=autoencoder.input, outputs=autoencoder.get_layer('encoder').output)"
   ]
  },
  {
   "cell_type": "code",
   "execution_count": 14,
   "metadata": {},
   "outputs": [],
   "source": [
    "#encoder.save('encoder.h5')"
   ]
  },
  {
   "cell_type": "code",
   "execution_count": 15,
   "metadata": {},
   "outputs": [],
   "source": [
    "#query = X_test[11]"
   ]
  },
  {
   "cell_type": "code",
   "execution_count": 16,
   "metadata": {},
   "outputs": [],
   "source": [
    "#plt.imshow(query.reshape(28,28), cmap='gray')"
   ]
  },
  {
   "cell_type": "code",
   "execution_count": 17,
   "metadata": {},
   "outputs": [],
   "source": [
    "#X_test.shape"
   ]
  },
  {
   "cell_type": "code",
   "execution_count": 18,
   "metadata": {},
   "outputs": [
    {
     "name": "stdout",
     "output_type": "stream",
     "text": [
      "Found 500 images belonging to 10 classes.\n",
      "Found 500 images belonging to 10 classes.\n",
      "<keras_preprocessing.image.directory_iterator.DirectoryIterator object at 0x0000022A6F414C50>\n",
      "<keras_preprocessing.image.directory_iterator.DirectoryIterator object at 0x0000022A65EE20F0>\n"
     ]
    }
   ],
   "source": [
    "from tensorflow.keras.preprocessing.image import ImageDataGenerator\n",
    "test_datagen = ImageDataGenerator(rescale=1./255)\n",
    "X_test_itr=test_datagen.flow_from_directory(\n",
    "    'classes',\n",
    "    target_size=(28, 28),\n",
    "    batch_size=500,\n",
    "    color_mode='grayscale',\n",
    "    class_mode='binary')\n",
    "validation_generator = test_datagen.flow_from_directory(\n",
    "    'classes',\n",
    "    target_size=(28, 28),\n",
    "    batch_size=32,\n",
    "    color_mode='grayscale',\n",
    "    class_mode='binary')\n",
    "print(validation_generator)\n",
    "print(X_test_itr)"
   ]
  },
  {
   "cell_type": "code",
   "execution_count": 19,
   "metadata": {},
   "outputs": [],
   "source": [
    "X_test, X_test_L = X_test_itr.next()\n",
    "    "
   ]
  },
  {
   "cell_type": "code",
   "execution_count": 20,
   "metadata": {},
   "outputs": [
    {
     "data": {
      "text/plain": [
       "(500, 28, 28, 1)"
      ]
     },
     "execution_count": 20,
     "metadata": {},
     "output_type": "execute_result"
    }
   ],
   "source": [
    "X_test.shape"
   ]
  },
  {
   "cell_type": "code",
   "execution_count": 21,
   "metadata": {},
   "outputs": [],
   "source": [
    "codes = encoder.predict(X_train)"
   ]
  },
  {
   "cell_type": "code",
   "execution_count": 22,
   "metadata": {},
   "outputs": [
    {
     "data": {
      "text/plain": [
       "(60000, 4, 4, 8)"
      ]
     },
     "execution_count": 22,
     "metadata": {},
     "output_type": "execute_result"
    }
   ],
   "source": [
    "codes.shape"
   ]
  },
  {
   "cell_type": "code",
   "execution_count": 23,
   "metadata": {},
   "outputs": [],
   "source": [
    "query_codes = encoder.predict(X_test)"
   ]
  },
  {
   "cell_type": "code",
   "execution_count": 24,
   "metadata": {},
   "outputs": [
    {
     "data": {
      "text/plain": [
       "(500, 4, 4, 8)"
      ]
     },
     "execution_count": 24,
     "metadata": {},
     "output_type": "execute_result"
    }
   ],
   "source": [
    "query_codes.shape"
   ]
  },
  {
   "cell_type": "code",
   "execution_count": 25,
   "metadata": {},
   "outputs": [
    {
     "name": "stdout",
     "output_type": "stream",
     "text": [
      "(60000, 128)\n",
      "(500, 128)\n"
     ]
    }
   ],
   "source": [
    "from sklearn.neighbors import NearestNeighbors\n",
    "n_neigh = 1\n",
    "codes = codes.reshape(-1, 4*4*8); print(codes.shape)\n",
    "query_codes = query_codes.reshape(-1, 4*4*8); print(query_codes.shape)"
   ]
  },
  {
   "cell_type": "code",
   "execution_count": 26,
   "metadata": {},
   "outputs": [],
   "source": [
    "nbrs = NearestNeighbors(n_neighbors=n_neigh).fit(codes)\n",
    "cs = []\n",
    "for i in range(500):\n",
    "    distances, indices = nbrs.kneighbors(np.array(query_codes[i].reshape(-1,128)))\n",
    "    closest_images = X_train[indices]\n",
    "    closest_images = closest_images.reshape(-1,28,28,1); \n",
    "    #print(closest_images.shape)\n",
    "    codes1 = encoder.predict(closest_images)\n",
    "    query_code1 = encoder.predict(X_test[i].reshape(1,28,28,1))\n",
    "    #print(query_code1.shape)\n",
    "    query_code1_temp = query_code1.reshape(128)\n",
    "    #print(query_code1_temp)\n",
    "    codes1_temp = codes1[0].reshape(128)\n",
    "    #print(codes1_temp.shape)\n",
    "    cs.append(np.dot(codes1_temp, query_code1_temp) / (np.linalg.norm(codes1_temp) * np.linalg.norm(query_code1_temp)))"
   ]
  },
  {
   "cell_type": "code",
   "execution_count": 27,
   "metadata": {},
   "outputs": [
    {
     "name": "stdout",
     "output_type": "stream",
     "text": [
      "[0.9962762, 0.99947864, 0.9951631, 0.9964546, 0.9973665, 0.9928461, 0.9984312, 0.99810696, 0.9972555, 0.99817497, 0.9929398, 0.99595475, 0.99753374, 0.9992801, 0.99790454, 0.9926582, 0.99928343, 0.9976414, 0.98685163, 0.99774563, 0.9883319, 0.99514484, 0.99451536, 0.9964918, 0.9959336, 0.99765, 0.9978522, 0.99230546, 0.99870783, 0.9954157, 0.9881724, 0.99712265, 0.9920099, 0.9978214, 0.9968499, 0.9978093, 0.99161774, 0.997706, 0.99744624, 0.99617404, 0.99693155, 0.9968203, 0.99812925, 0.9979753, 0.99844164, 0.9991895, 0.99797666, 0.9976524, 0.9980038, 0.9950384, 0.99888563, 0.99479604, 0.99746, 0.9969983, 0.99335116, 0.9963051, 0.99593824, 0.99869925, 0.99755025, 0.9940585, 0.99886703, 0.99671304, 0.9991756, 0.99767584, 0.9882198, 0.99638605, 0.983772, 0.9987842, 0.98873204, 0.99542874, 0.9913727, 0.9970233, 0.99643034, 0.9976817, 0.9963031, 0.99493146, 0.9981401, 0.9969368, 0.9981427, 0.9944839, 0.99830925, 0.9967486, 0.9975035, 0.9981691, 0.99854726, 0.9989191, 0.9968734, 0.9940284, 0.99768066, 0.99634373, 0.99758327, 0.99919057, 0.9982673, 0.9961147, 0.9985677, 0.99891, 0.9966247, 0.9914531, 0.99301726, 0.99718416, 0.99728817, 0.9864654, 0.99660254, 0.99883074, 0.997937, 0.9913113, 0.99530494, 0.99910635, 0.98859084, 0.9972709, 0.9987856, 0.9938926, 0.9976282, 0.9941408, 0.99470174, 0.9985789, 0.9965085, 0.99723816, 0.99928296, 0.9955325, 0.9980841, 0.99755794, 0.99831396, 0.99492234, 0.9979608, 0.9983393, 0.99652386, 0.99833155, 0.9984509, 0.9979671, 0.990284, 0.9993568, 0.9982869, 0.9956892, 0.998049, 0.99828094, 0.996934, 0.9982823, 0.9971686, 0.9945839, 0.9915574, 0.99852496, 0.99576664, 0.98502916, 0.9986758, 0.99729794, 0.99783957, 0.9974566, 0.99257225, 0.99808127, 0.9973992, 0.99631226, 0.99202377, 0.99913716, 0.99741316, 0.9952413, 0.9992555, 0.9957033, 0.9943544, 0.99887973, 0.99923414, 0.9986047, 0.99758554, 0.9969734, 0.99661785, 0.9776317, 0.9977302, 0.9989326, 0.9988837, 0.993679, 0.99384964, 0.9989784, 0.9944989, 0.9985339, 0.99054617, 0.9946432, 0.99818647, 0.9980999, 0.9985146, 0.9968675, 0.9876269, 0.9984047, 0.9937996, 0.9990803, 0.99796635, 0.99793434, 0.9980752, 0.9988686, 0.99868417, 0.99880564, 0.99331033, 0.9977029, 0.9969586, 0.9945206, 0.9938492, 0.9983442, 0.9959764, 0.9951485, 0.995349, 0.9924089, 0.9924067, 0.9923876, 0.993302, 0.99740255, 0.998602, 0.9951509, 0.9982112, 0.99653804, 0.99310476, 0.9984295, 0.9994369, 0.9977578, 0.99588037, 0.9897021, 0.99386156, 0.9975054, 0.9930394, 0.9902397, 0.99690956, 0.99904287, 0.99826825, 0.9971934, 0.9956355, 0.99806917, 0.9927508, 0.99640065, 0.9991078, 0.99481094, 0.9970356, 0.99817705, 0.9918679, 0.9976107, 0.99618846, 0.9983986, 0.988486, 0.99713725, 0.9988651, 0.999012, 0.99757475, 0.99854356, 0.99821544, 0.99689525, 0.99454457, 0.9977169, 0.996862, 0.99266714, 0.99747485, 0.9747363, 0.9979048, 0.99766606, 0.9930115, 0.9939517, 0.9977369, 0.9991197, 0.9960773, 0.99697405, 0.9960757, 0.9951555, 0.9911244, 0.99699104, 0.9891063, 0.99837726, 0.9981651, 0.98917, 0.9900674, 0.997619, 0.9974132, 0.9985313, 0.997633, 0.99641395, 0.9976172, 0.99741614, 0.99738556, 0.99706244, 0.99119747, 0.9967071, 0.99876064, 0.99043226, 0.99837285, 0.9924313, 0.9974948, 0.9976213, 0.99858904, 0.9980487, 0.9906255, 0.9971112, 0.99703616, 0.9982332, 0.9989055, 0.9906177, 0.9982183, 0.99564123, 0.9965221, 0.9988006, 0.99775, 0.9981498, 0.9978076, 0.99738115, 0.99818814, 0.99846613, 0.99830365, 0.9986736, 0.99533224, 0.99932235, 0.995677, 0.99820536, 0.9987152, 0.9986969, 0.9974393, 0.9959505, 0.9976741, 0.99046385, 0.9956484, 0.9927192, 0.99856406, 0.99812156, 0.9976324, 0.9992436, 0.9991612, 0.9969961, 0.9972508, 0.99707526, 0.99878573, 0.9983909, 0.98506105, 0.9973321, 0.985429, 0.9960403, 0.99782646, 0.99870896, 0.9959362, 0.9983016, 0.9987065, 0.99547166, 0.9991101, 0.99445367, 0.99773115, 0.9957122, 0.9951943, 0.9950766, 0.9971639, 0.9957545, 0.9955731, 0.9955739, 0.99745387, 0.9984121, 0.9977481, 0.99667174, 0.9957061, 0.99868715, 0.9991119, 0.9981242, 0.9978838, 0.99884045, 0.99159425, 0.99294215, 0.9972455, 0.9967988, 0.9925309, 0.99164855, 0.9952744, 0.9973981, 0.99773836, 0.99887514, 0.9973746, 0.99617994, 0.9983581, 0.996725, 0.9958843, 0.99765384, 0.9936163, 0.99888337, 0.99175274, 0.99477005, 0.997116, 0.9938361, 0.9980278, 0.9907305, 0.99744135, 0.99808186, 0.99860346, 0.9980652, 0.99877214, 0.9959368, 0.9991728, 0.99426204, 0.9994544, 0.9934954, 0.9989649, 0.99689144, 0.99290186, 0.9959814, 0.99423593, 0.99150974, 0.9982718, 0.99658, 0.99555933, 0.99592483, 0.9974999, 0.99757165, 0.9977378, 0.99260664, 0.99775714, 0.99695414, 0.9962543, 0.99180484, 0.97648895, 0.9972239, 0.9965149, 0.9959008, 0.9974944, 0.99327385, 0.99875325, 0.99891657, 0.99675703, 0.99246883, 0.9902484, 0.99786985, 0.998421, 0.99838644, 0.9960412, 0.9956686, 0.997458, 0.9977765, 0.9983742, 0.9979283, 0.99779147, 0.98100984, 0.99381316, 0.9980685, 0.9992203, 0.9976888, 0.9899624, 0.9990685, 0.99511945, 0.9981552, 0.998065, 0.99884963, 0.9981234, 0.9951169, 0.9976668, 0.9905263, 0.99871904, 0.9907084, 0.9973975, 0.99291134, 0.9943526, 0.99718666, 0.9908579, 0.99785024, 0.99590206, 0.99816686, 0.9957084, 0.99902904, 0.9973188, 0.9973134, 0.99709684, 0.9972256, 0.9967279, 0.9967792, 0.9955958, 0.9937503, 0.9968227, 0.99623317, 0.99675924, 0.9955078, 0.99733245, 0.998161, 0.9975842, 0.9986778, 0.9921838, 0.9979598, 0.9985745, 0.9973801, 0.9985531, 0.9912364, 0.9957537, 0.9979221, 0.9987094, 0.99705017, 0.99499, 0.99125606, 0.99651957, 0.9978221, 0.99780643, 0.99819887, 0.9956108, 0.9924867, 0.99744135, 0.99872017, 0.99814427, 0.9986414, 0.99915254, 0.9978794, 0.99825835, 0.9975184, 0.9988976, 0.99719507, 0.99336135, 0.9987293]\n",
      "0.996168231844902\n"
     ]
    }
   ],
   "source": [
    "print(cs)\n",
    "print(sum(cs)/len(cs))"
   ]
  },
  {
   "cell_type": "code",
   "execution_count": 28,
   "metadata": {},
   "outputs": [
    {
     "name": "stdout",
     "output_type": "stream",
     "text": [
      "0.0\n",
      "[7. 2. 5. 4. 7. 6. 7. 0. 2. 1. 8. 7. 8. 4. 9. 9. 1. 4. 8. 7. 5. 3. 4. 0.\n",
      " 3. 6. 3. 4. 1. 2. 5. 9. 3. 4. 7. 7. 3. 2. 4. 6. 9. 8. 2. 1. 3. 4. 7. 3.\n",
      " 7. 2. 0. 5. 1. 3. 2. 9. 8. 9. 2. 5. 0. 4. 1. 7. 5. 8. 5. 7. 5. 9. 0. 2.\n",
      " 3. 4. 8. 2. 9. 9. 7. 7. 6. 3. 1. 4. 0. 1. 3. 5. 3. 5. 2. 0. 7. 0. 4. 2.\n",
      " 9. 5. 5. 0. 7. 8. 8. 1. 3. 5. 0. 4. 7. 7. 2. 8. 7. 5. 5. 4. 8. 2. 1. 2.\n",
      " 4. 2. 7. 8. 9. 0. 7. 2. 4. 3. 5. 1. 9. 8. 7. 6. 1. 2. 6. 9. 5. 1. 8. 2.\n",
      " 1. 9. 0. 6. 0. 6. 7. 9. 5. 4. 0. 9. 6. 2. 3. 4. 6. 4. 6. 8. 7. 5. 8. 7.\n",
      " 1. 3. 5. 1. 8. 6. 6. 3. 1. 7. 3. 9. 8. 7. 7. 2. 4. 1. 7. 7. 0. 4. 5. 1.\n",
      " 8. 0. 7. 9. 3. 5. 3. 5. 6. 4. 5. 8. 2. 8. 3. 9. 5. 3. 1. 7. 6. 8. 6. 1.\n",
      " 2. 6. 3. 1. 0. 9. 3. 6. 5. 9. 1. 5. 2. 0. 5. 2. 7. 3. 0. 3. 1. 0. 6. 1.\n",
      " 4. 6. 2. 4. 8. 8. 9. 8. 9. 4. 8. 8. 9. 1. 5. 4. 4. 3. 5. 9. 5. 4. 4. 2.\n",
      " 0. 3. 1. 3. 7. 8. 7. 9. 2. 9. 5. 7. 1. 9. 3. 9. 2. 4. 6. 6. 0. 4. 6. 9.\n",
      " 1. 6. 3. 6. 9. 4. 0. 3. 3. 1. 9. 6. 1. 1. 0. 6. 2. 1. 7. 4. 6. 7. 2. 5.\n",
      " 8. 5. 0. 3. 2. 1. 1. 7. 8. 5. 3. 0. 8. 1. 5. 6. 2. 7. 8. 7. 4. 8. 1. 8.\n",
      " 9. 2. 4. 9. 3. 2. 9. 5. 4. 1. 0. 6. 7. 1. 6. 4. 7. 8. 8. 0. 8. 0. 5. 6.\n",
      " 9. 9. 6. 4. 0. 8. 0. 4. 4. 5. 6. 3. 4. 4. 5. 0. 3. 0. 3. 6. 1. 9. 1. 2.\n",
      " 0. 8. 0. 5. 4. 3. 6. 6. 6. 5. 2. 6. 6. 1. 9. 0. 3. 9. 7. 1. 8. 8. 0. 5.\n",
      " 3. 8. 3. 5. 4. 4. 2. 8. 5. 6. 3. 3. 5. 2. 9. 0. 8. 4. 9. 6. 6. 9. 2. 6.\n",
      " 0. 1. 0. 9. 6. 2. 0. 3. 8. 5. 2. 7. 9. 5. 9. 2. 7. 8. 3. 7. 7. 1. 0. 3.\n",
      " 3. 4. 8. 6. 8. 6. 1. 9. 2. 3. 6. 9. 4. 1. 7. 2. 7. 0. 0. 2. 0. 0. 2. 9.\n",
      " 6. 8. 5. 9. 0. 0. 8. 4. 5. 1. 1. 7. 2. 0. 4. 2. 1. 2. 6. 0.]\n"
     ]
    },
    {
     "data": {
      "image/png": "[encoded data removed]",
      "text/plain": [
       "<Figure size 432x288 with 1 Axes>"
      ]
     },
     "metadata": {
      "needs_background": "light"
     },
     "output_type": "display_data"
    }
   ],
   "source": [
    "print(X_test_L[499])\n",
    "plt.imshow(X_test[499].reshape(28,28))\n",
    "print(X_test_L)"
   ]
  },
  {
   "cell_type": "code",
   "execution_count": 29,
   "metadata": {},
   "outputs": [
    {
     "name": "stdout",
     "output_type": "stream",
     "text": [
      "(28, 28, 1)\n"
     ]
    },
    {
     "data": {
      "image/png": "[encoded data removed]",
      "text/plain": [
       "<Figure size 1440x576 with 1 Axes>"
      ]
     },
     "metadata": {
      "needs_background": "light"
     },
     "output_type": "display_data"
    }
   ],
   "source": [
    "plt.figure(figsize=(20, 8))\n",
    "for i in range(n_neigh):\n",
    "    # display original\n",
    "    ax = plt.subplot(1, n_neigh, i+1)\n",
    "    plt.imshow(closest_images[i].reshape(28, 28))\n",
    "    print(closest_images[i].shape)\n",
    "    #plt.gray()\n",
    "    ax.get_xaxis().set_visible(False)\n",
    "    ax.get_yaxis().set_visible(False)\n",
    "    \n",
    "plt.show()"
   ]
  }
 ],
 "metadata": {
  "kernelspec": {
   "display_name": "Python 3",
   "language": "python",
   "name": "python3"
  },
  "language_info": {
   "codemirror_mode": {
    "name": "ipython",
    "version": 3
   },
   "file_extension": ".py",
   "mimetype": "text/x-python",
   "name": "python",
   "nbconvert_exporter": "python",
   "pygments_lexer": "ipython3",
   "version": "3.7.3"
  }
 },
 "nbformat": 4,
 "nbformat_minor": 2
}
